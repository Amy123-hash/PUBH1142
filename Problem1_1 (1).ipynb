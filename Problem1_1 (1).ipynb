{
  "nbformat": 4,
  "nbformat_minor": 0,
  "metadata": {
    "colab": {
      "provenance": []
    },
    "kernelspec": {
      "name": "python3",
      "display_name": "Python 3"
    },
    "language_info": {
      "name": "python"
    }
  },
  "cells": [
    {
      "cell_type": "code",
      "source": [
        "def PatternCount(text, pattern):\n",
        "    count = 0\n",
        "    for i in range(len(text) - len(pattern) + 1):\n",
        "        if text[i:i+len(pattern)] == pattern:\n",
        "            count +=  1\n",
        "    return count\n",
        "if __name__ == \"__main__\":\n",
        "    text = 'GCGCG'\n",
        "    pattern = 'GCG'\n",
        "    # with open(\"rosalind_ba1a.txt\", \"r\") as f:\n",
        "    #     text = f.readline().strip()\n",
        "    #     pattern = f.readline().strip()\n",
        "    print(PatternCount(text, pattern))\n"
      ],
      "metadata": {
        "id": "udtfM2OfoMaK"
      },
      "execution_count": 23,
      "outputs": []
    },
    {
      "cell_type": "code",
      "source": [
        "Text = \"ACAACTATGCATACTATCGGGAACTATCCT\"\n",
        "Pattern = \"ACTAT\"\n",
        "result = PatternCount(Text, Pattern)\n",
        "print(result)  # Output will be 3\n"
      ],
      "metadata": {
        "colab": {
          "base_uri": "https://localhost:8080/"
        },
        "id": "QqyKnHivqfjw",
        "outputId": "9621ce81-8eb9-4728-e6b4-c2277169d572"
      },
      "execution_count": 24,
      "outputs": [
        {
          "output_type": "stream",
          "name": "stdout",
          "text": [
            "3\n"
          ]
        }
      ]
    }
  ]
}